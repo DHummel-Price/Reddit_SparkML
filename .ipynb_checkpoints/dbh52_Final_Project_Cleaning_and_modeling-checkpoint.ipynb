{
 "cells": [
  {
   "cell_type": "markdown",
   "metadata": {},
   "source": [
    "# Massive Data Final Project\n",
    "\n",
    "## Author: Douglas Hummel-Price | Created: 04.29.20\n",
    "\n",
    "## Goal: analyze reddit comments: See write-up for more complete information\n",
    "\n",
    "### Initial Setup"
   ]
  },
  {
   "cell_type": "code",
   "execution_count": 1,
   "metadata": {},
   "outputs": [],
   "source": [
    "## Import necessary libraries\n",
    "from pyspark.sql.types import *\n",
    "\n",
    "## Start Spark Session\n",
    "import findspark\n",
    "findspark.init()\n",
    "from pyspark import SparkContext\n",
    "from pyspark.sql import SparkSession\n",
    "sc = SparkContext().getOrCreate()\n",
    "spark = SparkSession.builder.appName(\"project\").getOrCreate()\n",
    "\n",
    "import json\n",
    "from pyspark.sql import Row\n",
    "import pyspark.sql.functions as F\n",
    "\n",
    "## Import necessary libraries for modeling\n",
    "from pyspark.ml.feature import OneHotEncoderEstimator, StringIndexer, IndexToString, VectorAssembler\n",
    "from pyspark.ml.classification import LogisticRegression\n",
    "from pyspark.ml.evaluation import BinaryClassificationEvaluator, MulticlassClassificationEvaluator\n",
    "from pyspark.ml import Pipeline, Model\n",
    "from pyspark.sql import types"
   ]
  },
  {
   "cell_type": "code",
   "execution_count": 2,
   "metadata": {},
   "outputs": [
    {
     "data": {
      "text/html": [
       "\n",
       "            <div>\n",
       "                <p><b>SparkSession - in-memory</b></p>\n",
       "                \n",
       "        <div>\n",
       "            <p><b>SparkContext</b></p>\n",
       "\n",
       "            <p><a href=\"http://ip-172-31-24-67.ec2.internal:4040\">Spark UI</a></p>\n",
       "\n",
       "            <dl>\n",
       "              <dt>Version</dt>\n",
       "                <dd><code>v2.4.4</code></dd>\n",
       "              <dt>Master</dt>\n",
       "                <dd><code>yarn</code></dd>\n",
       "              <dt>AppName</dt>\n",
       "                <dd><code>pyspark-shell</code></dd>\n",
       "            </dl>\n",
       "        </div>\n",
       "        \n",
       "            </div>\n",
       "        "
      ],
      "text/plain": [
       "<pyspark.sql.session.SparkSession at 0x7fc49414d550>"
      ]
     },
     "execution_count": 2,
     "metadata": {},
     "output_type": "execute_result"
    }
   ],
   "source": [
    "## Verify that Spark initiated\n",
    "spark"
   ]
  },
  {
   "cell_type": "code",
   "execution_count": 3,
   "metadata": {},
   "outputs": [],
   "source": [
    "## This prevents some errors that I had been encountering related to AWS limits.\n",
    "\n",
    "hc = sc._jsc.hadoopConfiguration()\n",
    "\n",
    "## setting the config is the same for both languages\n",
    "hc.set(\"fs.sa.impl\", \"org.apache.hadoop.fs.sa.S3FileSystem\")\n",
    "hc.setInt(\"fs.sa.connection.maximum\", 10000)"
   ]
  },
  {
   "cell_type": "markdown",
   "metadata": {},
   "source": [
    "### Read in sample reddit LZO data files"
   ]
  },
  {
   "cell_type": "code",
   "execution_count": 4,
   "metadata": {},
   "outputs": [],
   "source": [
    "## read in file\n",
    "json_lzo = sc.newAPIHadoopFile(\"s3://bigdatateaching/reddit/lzo/RC_*.lzo\",\n",
    "                              \"com.hadoop.mapreduce.LzoTextInputFormat\", \n",
    "                              \"org.apache.hadoop.io.LongWritable\",\n",
    "                              \"org.apache.hadoop.io.Text\")"
   ]
  },
  {
   "cell_type": "code",
   "execution_count": 5,
   "metadata": {},
   "outputs": [
    {
     "data": {
      "text/plain": [
       "StructType(List(StructField(archived,BooleanType,true),StructField(author,StringType,true),StructField(author_cakeday,BooleanType,true),StructField(author_created_utc,LongType,true),StructField(author_flair_background_color,StringType,true),StructField(author_flair_css_class,StringType,true),StructField(author_flair_richtext,ArrayType(StructType(List(StructField(a,StringType,true),StructField(e,StringType,true),StructField(t,StringType,true),StructField(u,StringType,true))),true),true),StructField(author_flair_template_id,StringType,true),StructField(author_flair_text,StringType,true),StructField(author_flair_text_color,StringType,true),StructField(author_flair_type,StringType,true),StructField(author_fullname,StringType,true),StructField(author_patreon_flair,BooleanType,true),StructField(body,StringType,true),StructField(can_gild,BooleanType,true),StructField(can_mod_post,BooleanType,true),StructField(collapsed,BooleanType,true),StructField(collapsed_reason,StringType,true),StructField(controversiality,LongType,true),StructField(created_utc,LongType,true),StructField(distinguished,StringType,true),StructField(edited,StringType,true),StructField(gilded,LongType,true),StructField(gildings,StructType(List(StructField(gid_1,LongType,true),StructField(gid_2,LongType,true),StructField(gid_3,LongType,true))),true),StructField(id,StringType,true),StructField(is_submitter,BooleanType,true),StructField(link_id,StringType,true),StructField(no_follow,BooleanType,true),StructField(parent_id,StringType,true),StructField(permalink,StringType,true),StructField(removal_reason,StringType,true),StructField(retrieved_on,LongType,true),StructField(score,LongType,true),StructField(send_replies,BooleanType,true),StructField(stickied,BooleanType,true),StructField(subreddit,StringType,true),StructField(subreddit_id,StringType,true),StructField(subreddit_name_prefixed,StringType,true),StructField(subreddit_type,StringType,true)))"
      ]
     },
     "execution_count": 5,
     "metadata": {},
     "output_type": "execute_result"
    }
   ],
   "source": [
    "## Get schema for sample data\n",
    "data = spark.read.json(\"s3://bigdatateaching/reddit/sample-data/1m-line-sample.json\")\n",
    "schema = data.schema.json()\n",
    "\n",
    "new_schema = StructType.fromJson(json.loads(schema))\n",
    "new_schema"
   ]
  },
  {
   "cell_type": "code",
   "execution_count": 6,
   "metadata": {},
   "outputs": [
    {
     "name": "stdout",
     "output_type": "stream",
     "text": [
      "root\n",
      " |-- archived: boolean (nullable = true)\n",
      " |-- author: string (nullable = true)\n",
      " |-- author_cakeday: boolean (nullable = true)\n",
      " |-- author_created_utc: long (nullable = true)\n",
      " |-- author_flair_background_color: string (nullable = true)\n",
      " |-- author_flair_css_class: string (nullable = true)\n",
      " |-- author_flair_richtext: array (nullable = true)\n",
      " |    |-- element: struct (containsNull = true)\n",
      " |    |    |-- a: string (nullable = true)\n",
      " |    |    |-- e: string (nullable = true)\n",
      " |    |    |-- t: string (nullable = true)\n",
      " |    |    |-- u: string (nullable = true)\n",
      " |-- author_flair_template_id: string (nullable = true)\n",
      " |-- author_flair_text: string (nullable = true)\n",
      " |-- author_flair_text_color: string (nullable = true)\n",
      " |-- author_flair_type: string (nullable = true)\n",
      " |-- author_fullname: string (nullable = true)\n",
      " |-- author_patreon_flair: boolean (nullable = true)\n",
      " |-- body: string (nullable = true)\n",
      " |-- can_gild: boolean (nullable = true)\n",
      " |-- can_mod_post: boolean (nullable = true)\n",
      " |-- collapsed: boolean (nullable = true)\n",
      " |-- collapsed_reason: string (nullable = true)\n",
      " |-- controversiality: long (nullable = true)\n",
      " |-- created_utc: long (nullable = true)\n",
      " |-- distinguished: string (nullable = true)\n",
      " |-- edited: string (nullable = true)\n",
      " |-- gilded: long (nullable = true)\n",
      " |-- gildings: struct (nullable = true)\n",
      " |    |-- gid_1: long (nullable = true)\n",
      " |    |-- gid_2: long (nullable = true)\n",
      " |    |-- gid_3: long (nullable = true)\n",
      " |-- id: string (nullable = true)\n",
      " |-- is_submitter: boolean (nullable = true)\n",
      " |-- link_id: string (nullable = true)\n",
      " |-- no_follow: boolean (nullable = true)\n",
      " |-- parent_id: string (nullable = true)\n",
      " |-- permalink: string (nullable = true)\n",
      " |-- removal_reason: string (nullable = true)\n",
      " |-- retrieved_on: long (nullable = true)\n",
      " |-- score: long (nullable = true)\n",
      " |-- send_replies: boolean (nullable = true)\n",
      " |-- stickied: boolean (nullable = true)\n",
      " |-- subreddit: string (nullable = true)\n",
      " |-- subreddit_id: string (nullable = true)\n",
      " |-- subreddit_name_prefixed: string (nullable = true)\n",
      " |-- subreddit_type: string (nullable = true)\n",
      "\n"
     ]
    }
   ],
   "source": [
    "data.printSchema()"
   ]
  },
  {
   "cell_type": "markdown",
   "metadata": {},
   "source": [
    "### Run this when ready for full data"
   ]
  },
  {
   "cell_type": "code",
   "execution_count": 7,
   "metadata": {},
   "outputs": [],
   "source": [
    "data = json_lzo.map(lambda x:Row(x[1]))\\\n",
    ".toDF(['raw'])\\\n",
    ".select(F.from_json('raw',new_schema).alias('json')).select('json.*')"
   ]
  },
  {
   "cell_type": "markdown",
   "metadata": {},
   "source": [
    "### Count of NAs on full original dataset"
   ]
  },
  {
   "cell_type": "code",
   "execution_count": null,
   "metadata": {},
   "outputs": [],
   "source": [
    "#Checking for missing values \n",
    "data.select([F.count(F.when(F.isnull(c), c)).alias(c) for c in data.columns]).show()"
   ]
  },
  {
   "cell_type": "markdown",
   "metadata": {},
   "source": [
    "|                      Variable |                    Number NA |\n",
    "|------------------------------:|-----------------------------:|\n",
    "|                      archived |                    129352624 |\n",
    "|                        author |                            0 |\n",
    "|                author_cakeday |                    474710486 |\n",
    "|            author_created_utc |                     42738322 |\n",
    "| author_flair_background_color |                    323529952 |\n",
    "|        author_flair_css_class |                    371349643 |\n",
    "|         author_flair_richtext |                     42737313 |\n",
    "|      author_flair_template_id |                    414663455 |\n",
    "|             author_flair_text |                    368524948 |\n",
    "|       author_flair_text_color |                    323529952 |\n",
    "|             author_flair_type |                     42737313 |\n",
    "|               author_fullname |                     42737313 |\n",
    "|          author_patreon_flair |                     49013039 |\n",
    "|                          body |                            0 |\n",
    "|                      can_gild |                            0 |\n",
    "|                  can_mod_post |                            0 |\n",
    "|                     collapsed |                            0 |\n",
    "|              collapsed_reason |                    469533816 |\n",
    "|              controversiality |                            0 |\n",
    "|                   created_utc |                            0 |\n",
    "|                 distinguished |                    468689710 |\n",
    "|                        edited |                            0 |\n",
    "|                        gilded |                            0 |\n",
    "|                      gildings |                            0 |\n",
    "|                            id |                            0 |\n",
    "|                  is_submitter |                            0 |\n",
    "|                       link_id |                            0 |\n",
    "|                     no_follow |                            0 |\n",
    "|                     parent_id |                            0 |\n",
    "|                     permalink |                            0 |\n",
    "|                removal_reason |                    476258225 |\n",
    "|                  retrieved_on |                            0 |\n",
    "|                         score |                            0 |\n",
    "|                  send_replies |                            0 |\n",
    "|                      stickied |                            0 |\n",
    "|                     subreddit |                            0 |\n",
    "|                  subreddit_id |                            0 |\n",
    "|       subreddit_name_prefixed |                            0 |\n",
    "|                subreddit_type |                            0 |"
   ]
  },
  {
   "cell_type": "markdown",
   "metadata": {},
   "source": [
    "### Drop columns that won't be used"
   ]
  },
  {
   "cell_type": "code",
   "execution_count": 8,
   "metadata": {},
   "outputs": [
    {
     "name": "stdout",
     "output_type": "stream",
     "text": [
      "root\n",
      " |-- can_gild: boolean (nullable = true)\n",
      " |-- collapsed: boolean (nullable = true)\n",
      " |-- controversiality: long (nullable = true)\n",
      " |-- edited: string (nullable = true)\n",
      " |-- gilded: long (nullable = true)\n",
      " |-- is_submitter: boolean (nullable = true)\n",
      " |-- no_follow: boolean (nullable = true)\n",
      " |-- score: long (nullable = true)\n",
      " |-- send_replies: boolean (nullable = true)\n",
      " |-- stickied: boolean (nullable = true)\n",
      " |-- subreddit_type: string (nullable = true)\n",
      "\n"
     ]
    }
   ],
   "source": [
    "droplist = [\"archived\", \"author_cakeday\", \"author_created_utc\", \"author_flair_background_color\", \"author_flair_css_class\", \"author_flair_richtext\", \n",
    "            \"author_flair_template_id\", \"author_flair_text\", \"author_flair_text_color\", \"author_flair_type\", \"author_fullname\", \n",
    "            \"author_patreon_flair\", \"collapsed_reason\", \"distinguished\",\"removal_reason\",\"author\", \"body\", \"retrieved_on\", \"gildings\",\n",
    "            \"id\",\"link_id\", \"parent_id\", \"permalink\", \"subreddit\", \"subreddit_id\", \"subreddit_name_prefixed\",\"created_utc\",\"can_mod_post\"]\n",
    "for col in droplist:\n",
    "    data = data.drop(col)\n",
    "data.printSchema()"
   ]
  },
  {
   "cell_type": "markdown",
   "metadata": {},
   "source": [
    "### Convert a few columns\n",
    "The variable \"edited\" shows false if the post has not been edited. Otherwise, it shows the date of the last edit in UTC format, so we need to convert it to 0 if \"false\" else 1. "
   ]
  },
  {
   "cell_type": "code",
   "execution_count": 9,
   "metadata": {},
   "outputs": [],
   "source": [
    "## Create UDF to do this\n",
    "def makebool(value):\n",
    "    if value == \"false\":\n",
    "        return 0\n",
    "    else:\n",
    "        return 1\n",
    "    \n",
    "udfedit = F.udf(makebool,IntegerType())"
   ]
  },
  {
   "cell_type": "code",
   "execution_count": 10,
   "metadata": {},
   "outputs": [
    {
     "name": "stdout",
     "output_type": "stream",
     "text": [
      "root\n",
      " |-- can_gild: integer (nullable = true)\n",
      " |-- collapsed: integer (nullable = true)\n",
      " |-- controversiality: long (nullable = true)\n",
      " |-- edited: integer (nullable = true)\n",
      " |-- gilded: long (nullable = true)\n",
      " |-- is_submitter: integer (nullable = true)\n",
      " |-- no_follow: integer (nullable = true)\n",
      " |-- score: long (nullable = true)\n",
      " |-- send_replies: integer (nullable = true)\n",
      " |-- stickied: integer (nullable = true)\n",
      " |-- subreddit_type: string (nullable = true)\n",
      " |-- abs_score: long (nullable = true)\n",
      " |-- logged_score: double (nullable = false)\n",
      "\n"
     ]
    }
   ],
   "source": [
    "## Convert each boolean to 0/1\n",
    "data = data.withColumn(\"edited\", udfedit(\"edited\"))\n",
    "\n",
    "ints = [\"can_gild\",\"collapsed\",\"is_submitter\",\"no_follow\",\"send_replies\",\"stickied\"]\n",
    "for x in ints:\n",
    "    data = data.withColumn(x,data[x].cast(types.IntegerType()))\n",
    "\n",
    "## Make a column with the absolute value of the score and the logged absolute value of the score\n",
    "\n",
    "data = data.withColumn('abs_score',F.abs(data.score))\n",
    "data = data.withColumn('logged_score',F.log(data.abs_score))\n",
    "\n",
    "## Convert nulls to 0  produced by taking the log of 0 \n",
    "data = data.fillna(0)\n",
    "\n",
    "data.printSchema() ## Use this to verify"
   ]
  },
  {
   "cell_type": "code",
   "execution_count": 11,
   "metadata": {},
   "outputs": [
    {
     "data": {
      "text/plain": [
       "476259744"
      ]
     },
     "execution_count": 11,
     "metadata": {},
     "output_type": "execute_result"
    }
   ],
   "source": [
    "## cache and count the data\n",
    "data.cache()\n",
    "data.count()"
   ]
  },
  {
   "cell_type": "code",
   "execution_count": 12,
   "metadata": {},
   "outputs": [
    {
     "name": "stdout",
     "output_type": "stream",
     "text": [
      "+--------+---------+----------------+------+------+------------+---------+-----+------------+--------+--------------+---------+------------+\n",
      "|can_gild|collapsed|controversiality|edited|gilded|is_submitter|no_follow|score|send_replies|stickied|subreddit_type|abs_score|logged_score|\n",
      "+--------+---------+----------------+------+------+------------+---------+-----+------------+--------+--------------+---------+------------+\n",
      "|       0|        0|               0|     0|     0|           0|        0|    0|           0|       0|             0|        0|           0|\n",
      "+--------+---------+----------------+------+------+------------+---------+-----+------------+--------+--------------+---------+------------+\n",
      "\n"
     ]
    }
   ],
   "source": [
    "#Checking for missing values \n",
    "data.select([F.count(F.when(F.isnull(c), c)).alias(c) for c in data.columns]).show()"
   ]
  },
  {
   "cell_type": "markdown",
   "metadata": {},
   "source": [
    "## Descriptive statistics for revised dataset"
   ]
  },
  {
   "cell_type": "code",
   "execution_count": 13,
   "metadata": {},
   "outputs": [
    {
     "name": "stdout",
     "output_type": "stream",
     "text": [
      "+-------+-------------------+-------------------+--------------------+--------------------+--------------------+-------------------+------------------+------------------+-------------------+--------------------+---------------+-----------------+------------------+\n",
      "|summary|           can_gild|          collapsed|    controversiality|              edited|              gilded|       is_submitter|         no_follow|             score|       send_replies|            stickied| subreddit_type|        abs_score|      logged_score|\n",
      "+-------+-------------------+-------------------+--------------------+--------------------+--------------------+-------------------+------------------+------------------+-------------------+--------------------+---------------+-----------------+------------------+\n",
      "|  count|          476259744|          476259744|           476259744|           476259744|           476259744|          476259744|         476259744|         476259744|          476259744|           476259744|      476259744|        476259744|         476259744|\n",
      "|   mean| 0.9841180173313158|0.05190769388226942|0.021989259289569518|0.027734370091963934|2.260384199089478...|0.08922097140336933|0.7766562546172283| 9.162615413071737| 0.9861357083331401|0.005540875610935532|           null|9.713968936664948|0.9188468221985778|\n",
      "| stddev|0.12501897987111218|0.22184067548902484| 0.14664832699564329|   0.164210763545465|0.017837149968014967| 0.2850624314704253|0.4164868751177917|137.10764547617927|0.11692764049677579| 0.07423054842832132|           null|137.0696858415644|1.1383221015041096|\n",
      "|    min|                  0|                  0|                   0|                   0|                   0|                  0|                 0|            -22280|                  0|                   0|gold_restricted|                0|               0.0|\n",
      "|    max|                  1|                  1|                   1|                   1|                  66|                  1|                 1|             90192|                  1|                   1|           user|            90192|11.409696010321356|\n",
      "+-------+-------------------+-------------------+--------------------+--------------------+--------------------+-------------------+------------------+------------------+-------------------+--------------------+---------------+-----------------+------------------+\n",
      "\n"
     ]
    }
   ],
   "source": [
    "data.describe().show()"
   ]
  },
  {
   "cell_type": "code",
   "execution_count": 14,
   "metadata": {},
   "outputs": [
    {
     "data": {
      "text/html": [
       "<div>\n",
       "<style scoped>\n",
       "    .dataframe tbody tr th:only-of-type {\n",
       "        vertical-align: middle;\n",
       "    }\n",
       "\n",
       "    .dataframe tbody tr th {\n",
       "        vertical-align: top;\n",
       "    }\n",
       "\n",
       "    .dataframe thead th {\n",
       "        text-align: right;\n",
       "    }\n",
       "</style>\n",
       "<table border=\"1\" class=\"dataframe\">\n",
       "  <thead>\n",
       "    <tr style=\"text-align: right;\">\n",
       "      <th></th>\n",
       "      <th>summary</th>\n",
       "      <th>can_gild</th>\n",
       "      <th>collapsed</th>\n",
       "      <th>controversiality</th>\n",
       "      <th>edited</th>\n",
       "      <th>gilded</th>\n",
       "      <th>is_submitter</th>\n",
       "      <th>no_follow</th>\n",
       "      <th>score</th>\n",
       "      <th>send_replies</th>\n",
       "      <th>stickied</th>\n",
       "      <th>subreddit_type</th>\n",
       "      <th>abs_score</th>\n",
       "      <th>logged_score</th>\n",
       "    </tr>\n",
       "  </thead>\n",
       "  <tbody>\n",
       "    <tr>\n",
       "      <th>0</th>\n",
       "      <td>count</td>\n",
       "      <td>4.762597e+08</td>\n",
       "      <td>4.762597e+08</td>\n",
       "      <td>4.762597e+08</td>\n",
       "      <td>4.762597e+08</td>\n",
       "      <td>476259744</td>\n",
       "      <td>4.762597e+08</td>\n",
       "      <td>4.762597e+08</td>\n",
       "      <td>4.762597e+08</td>\n",
       "      <td>4.762597e+08</td>\n",
       "      <td>4.762597e+08</td>\n",
       "      <td>476259744</td>\n",
       "      <td>4.762597e+08</td>\n",
       "      <td>4.762597e+08</td>\n",
       "    </tr>\n",
       "    <tr>\n",
       "      <th>1</th>\n",
       "      <td>mean</td>\n",
       "      <td>9.841180e-01</td>\n",
       "      <td>5.190769e-02</td>\n",
       "      <td>2.198926e-02</td>\n",
       "      <td>2.773437e-02</td>\n",
       "      <td>2.260384199089478...</td>\n",
       "      <td>8.922097e-02</td>\n",
       "      <td>7.766563e-01</td>\n",
       "      <td>9.162615e+00</td>\n",
       "      <td>9.861357e-01</td>\n",
       "      <td>5.540876e-03</td>\n",
       "      <td>null</td>\n",
       "      <td>9.713969e+00</td>\n",
       "      <td>9.188468e-01</td>\n",
       "    </tr>\n",
       "    <tr>\n",
       "      <th>2</th>\n",
       "      <td>stddev</td>\n",
       "      <td>1.250190e-01</td>\n",
       "      <td>2.218407e-01</td>\n",
       "      <td>1.466483e-01</td>\n",
       "      <td>1.642108e-01</td>\n",
       "      <td>0.017837149968014967</td>\n",
       "      <td>2.850624e-01</td>\n",
       "      <td>4.164869e-01</td>\n",
       "      <td>1.371076e+02</td>\n",
       "      <td>1.169276e-01</td>\n",
       "      <td>7.423055e-02</td>\n",
       "      <td>null</td>\n",
       "      <td>1.370697e+02</td>\n",
       "      <td>1.138322e+00</td>\n",
       "    </tr>\n",
       "    <tr>\n",
       "      <th>3</th>\n",
       "      <td>min</td>\n",
       "      <td>0.000000e+00</td>\n",
       "      <td>0.000000e+00</td>\n",
       "      <td>0.000000e+00</td>\n",
       "      <td>0.000000e+00</td>\n",
       "      <td>0</td>\n",
       "      <td>0.000000e+00</td>\n",
       "      <td>0.000000e+00</td>\n",
       "      <td>-2.228000e+04</td>\n",
       "      <td>0.000000e+00</td>\n",
       "      <td>0.000000e+00</td>\n",
       "      <td>gold_restricted</td>\n",
       "      <td>0.000000e+00</td>\n",
       "      <td>0.000000e+00</td>\n",
       "    </tr>\n",
       "    <tr>\n",
       "      <th>4</th>\n",
       "      <td>max</td>\n",
       "      <td>1.000000e+00</td>\n",
       "      <td>1.000000e+00</td>\n",
       "      <td>1.000000e+00</td>\n",
       "      <td>1.000000e+00</td>\n",
       "      <td>66</td>\n",
       "      <td>1.000000e+00</td>\n",
       "      <td>1.000000e+00</td>\n",
       "      <td>9.019200e+04</td>\n",
       "      <td>1.000000e+00</td>\n",
       "      <td>1.000000e+00</td>\n",
       "      <td>user</td>\n",
       "      <td>9.019200e+04</td>\n",
       "      <td>1.140970e+01</td>\n",
       "    </tr>\n",
       "  </tbody>\n",
       "</table>\n",
       "</div>"
      ],
      "text/plain": [
       "   summary             can_gild            collapsed      controversiality  \\\n",
       "0    count         4.762597e+08         4.762597e+08          4.762597e+08   \n",
       "1     mean         9.841180e-01         5.190769e-02          2.198926e-02   \n",
       "2   stddev         1.250190e-01         2.218407e-01          1.466483e-01   \n",
       "3      min         0.000000e+00         0.000000e+00          0.000000e+00   \n",
       "4      max         1.000000e+00         1.000000e+00          1.000000e+00   \n",
       "\n",
       "                 edited                gilded         is_submitter  \\\n",
       "0          4.762597e+08             476259744         4.762597e+08   \n",
       "1          2.773437e-02  2.260384199089478...         8.922097e-02   \n",
       "2          1.642108e-01  0.017837149968014967         2.850624e-01   \n",
       "3          0.000000e+00                     0         0.000000e+00   \n",
       "4          1.000000e+00                    66         1.000000e+00   \n",
       "\n",
       "            no_follow               score         send_replies  \\\n",
       "0        4.762597e+08        4.762597e+08         4.762597e+08   \n",
       "1        7.766563e-01        9.162615e+00         9.861357e-01   \n",
       "2        4.164869e-01        1.371076e+02         1.169276e-01   \n",
       "3        0.000000e+00       -2.228000e+04         0.000000e+00   \n",
       "4        1.000000e+00        9.019200e+04         1.000000e+00   \n",
       "\n",
       "               stickied   subreddit_type          abs_score  \\\n",
       "0          4.762597e+08        476259744       4.762597e+08   \n",
       "1          5.540876e-03             null       9.713969e+00   \n",
       "2          7.423055e-02             null       1.370697e+02   \n",
       "3          0.000000e+00  gold_restricted       0.000000e+00   \n",
       "4          1.000000e+00             user       9.019200e+04   \n",
       "\n",
       "         logged_score  \n",
       "0        4.762597e+08  \n",
       "1        9.188468e-01  \n",
       "2        1.138322e+00  \n",
       "3        0.000000e+00  \n",
       "4        1.140970e+01  "
      ]
     },
     "execution_count": 14,
     "metadata": {},
     "output_type": "execute_result"
    }
   ],
   "source": [
    "import pandas as pd\n",
    "descpretty = pd.read_csv(\"descriptivetableraw.txt\",sep=\"|\")\n",
    "descpretty.drop([\"Unnamed: 0\",\"Unnamed: 15\"],axis=1,inplace=True)\n",
    "descpretty"
   ]
  },
  {
   "cell_type": "code",
   "execution_count": 15,
   "metadata": {},
   "outputs": [],
   "source": [
    "descpretty.to_csv(\"Pretty_Descriptives.csv\",index=False)"
   ]
  },
  {
   "cell_type": "code",
   "execution_count": 17,
   "metadata": {},
   "outputs": [
    {
     "name": "stdout",
     "output_type": "stream",
     "text": [
      "The counts for the variable controversiality:\n",
      "+----------------+---------+\n",
      "|controversiality|    count|\n",
      "+----------------+---------+\n",
      "|               0|465787145|\n",
      "|               1| 10472599|\n",
      "+----------------+---------+\n",
      "\n",
      "The counts for the variable subreddit_type:\n",
      "+---------------+---------+\n",
      "| subreddit_type|    count|\n",
      "+---------------+---------+\n",
      "|gold_restricted|        3|\n",
      "|           user|   721502|\n",
      "|         public|463303117|\n",
      "|     restricted| 12235122|\n",
      "+---------------+---------+\n",
      "\n",
      "The counts for the variable edited:\n",
      "+------+---------+\n",
      "|edited|    count|\n",
      "+------+---------+\n",
      "|     1| 13208764|\n",
      "|     0|463050980|\n",
      "+------+---------+\n",
      "\n",
      "The counts for the variable can_gild:\n",
      "+--------+---------+\n",
      "|can_gild|    count|\n",
      "+--------+---------+\n",
      "|       1|468695795|\n",
      "|       0|  7563949|\n",
      "+--------+---------+\n",
      "\n",
      "The counts for the variable collapsed:\n",
      "+---------+---------+\n",
      "|collapsed|    count|\n",
      "+---------+---------+\n",
      "|        1| 24721545|\n",
      "|        0|451538199|\n",
      "+---------+---------+\n",
      "\n",
      "The counts for the variable is_submitter:\n",
      "+------------+---------+\n",
      "|is_submitter|    count|\n",
      "+------------+---------+\n",
      "|           1| 42492357|\n",
      "|           0|433767387|\n",
      "+------------+---------+\n",
      "\n",
      "The counts for the variable no_follow:\n",
      "+---------+---------+\n",
      "|no_follow|    count|\n",
      "+---------+---------+\n",
      "|        1|369890109|\n",
      "|        0|106369635|\n",
      "+---------+---------+\n",
      "\n",
      "The counts for the variable send_replies:\n",
      "+------------+---------+\n",
      "|send_replies|    count|\n",
      "+------------+---------+\n",
      "|           1|469656740|\n",
      "|           0|  6603004|\n",
      "+------------+---------+\n",
      "\n",
      "The counts for the variable stickied:\n",
      "+--------+---------+\n",
      "|stickied|    count|\n",
      "+--------+---------+\n",
      "|       1|  2638896|\n",
      "|       0|473620848|\n",
      "+--------+---------+\n",
      "\n"
     ]
    }
   ],
   "source": [
    "## Print out counts for the simple variables\n",
    "columns = ['controversiality', 'subreddit_type', 'edited', 'can_gild', 'collapsed', \n",
    "           'is_submitter',  'no_follow', 'send_replies', 'stickied']\n",
    "for col in columns:\n",
    "    print(f'The counts for the variable {col}:')\n",
    "    data.groupby(col).count().show()\n",
    "    data.groupby(col).count().toPandas().to_csv(\"Binary_\"+ col+'_distribution.csv',index=False)"
   ]
  },
  {
   "cell_type": "code",
   "execution_count": 19,
   "metadata": {},
   "outputs": [],
   "source": [
    "distros = ['gilded','score','abs_score']\n",
    "for col in distros:\n",
    "    data.groupby(col).count().toPandas().to_csv(\"Cont_\" + col+ '_distribution.csv',index=False)\n",
    "  \n"
   ]
  },
  {
   "cell_type": "code",
   "execution_count": 20,
   "metadata": {},
   "outputs": [],
   "source": [
    "controversial = data.filter(data['controversiality'] == 1)\n",
    "controdistros = ['score','abs_score']     \n",
    "for col in controdistros:\n",
    "    controversial.groupby(col).count().toPandas().to_csv(\"Cont_\" + col+'_contro_distribution.csv',index=False)"
   ]
  },
  {
   "cell_type": "markdown",
   "metadata": {},
   "source": [
    "## Now we can build our pipeline"
   ]
  },
  {
   "cell_type": "code",
   "execution_count": 21,
   "metadata": {},
   "outputs": [],
   "source": [
    "# df = data.limit(1000)\n",
    "# df = data.sample(False,.0001)\n",
    "df = data"
   ]
  },
  {
   "cell_type": "code",
   "execution_count": 22,
   "metadata": {},
   "outputs": [
    {
     "name": "stdout",
     "output_type": "stream",
     "text": [
      "Number of training records: 381016616\n",
      "Number of testing records : 95243128\n"
     ]
    }
   ],
   "source": [
    "splitted_data = df.randomSplit([0.80, 0.20], 24)\n",
    "train_data = splitted_data[0]\n",
    "test_data = splitted_data[1]\n",
    "\n",
    "print(\"Number of training records: \" + str(train_data.count()))\n",
    "print(\"Number of testing records : \" + str(test_data.count()))"
   ]
  },
  {
   "cell_type": "code",
   "execution_count": 27,
   "metadata": {},
   "outputs": [],
   "source": [
    "target = \"edited\"\n",
    "features_score = [\"can_gild\", \"collapsed\", \"is_submitter\",\"send_replies\",\"stickied\", \"no_follow\",\n",
    "                \"controversiality\", \"gilded\",\"score\",\"subreddit_type_O\"]\n",
    "features_abs_score = [\"can_gild\", \"collapsed\", \"is_submitter\",\"send_replies\",\"stickied\", \"no_follow\",\n",
    "                \"controversiality\", \"gilded\",\"abs_score\",\"subreddit_type_O\"]\n",
    "features_logged_score = [\"can_gild\", \"collapsed\", \"is_submitter\",\"send_replies\",\"stickied\", \"no_follow\",\n",
    "                \"controversiality\", \"gilded\",\"logged_score\",\"subreddit_type_O\"]\n",
    "justscore = [\"score\"]\n",
    "justabs = [\"abs_score\"]\n",
    "just_logged_score = [\"logged_score\"]\n",
    "justcontrols = [\"can_gild\", \"collapsed\", \"is_submitter\",\"send_replies\",\"stickied\", \"no_follow\",\n",
    "                \"controversiality\", \"gilded\",\"subreddit_type_O\"]\n",
    "featurelist = [features_score,features_abs_score,features_logged_score,justscore,justabs,just_logged_score,justcontrols]\n",
    "featurelistname = [\"features_score\",\"features_abs_score\",\"features_logged_score\",\"justscore\",\"justabs\",\"just_logged_score\",\"justcontrols\"]\n",
    "\n",
    "# these objects are used to test the pipeline loop\n",
    "# featurelist = [justscore,justabs]\n",
    "# featurelistname = [\"justscore\",\"abs_score\"]"
   ]
  },
  {
   "cell_type": "code",
   "execution_count": 28,
   "metadata": {},
   "outputs": [
    {
     "name": "stdout",
     "output_type": "stream",
     "text": [
      "Currently modelling \"features_score\" which contains the following variables:\n",
      "['can_gild', 'collapsed', 'controversiality', 'gilded', 'is_submitter', 'no_follow', 'score', 'send_replies', 'stickied', 'subreddit_type_O']\n",
      "\n",
      "The AUC for model \"features_score\" is: \n",
      "0.6195354460002964\n",
      "\n",
      "Accuracy = 0.972258\n",
      "Test Error = 0.0277417\n",
      "Currently modelling \"features_abs_score\" which contains the following variables:\n",
      "['abs_score', 'can_gild', 'collapsed', 'controversiality', 'gilded', 'is_submitter', 'no_follow', 'send_replies', 'stickied', 'subreddit_type_O']\n",
      "\n",
      "The AUC for model \"features_abs_score\" is: \n",
      "0.6225319834913726\n",
      "\n",
      "Accuracy = 0.972258\n",
      "Test Error = 0.0277417\n",
      "Currently modelling \"features_logged_score\" which contains the following variables:\n",
      "['can_gild', 'collapsed', 'controversiality', 'gilded', 'is_submitter', 'logged_score', 'no_follow', 'send_replies', 'stickied', 'subreddit_type_O']\n",
      "\n",
      "The AUC for model \"features_logged_score\" is: \n",
      "0.6265093401784506\n",
      "\n",
      "Accuracy = 0.972261\n",
      "Test Error = 0.0277395\n",
      "Currently modelling \"justscore\" which contains the following variables:\n",
      "['score']\n",
      "\n",
      "The AUC for model \"justscore\" is: \n",
      "0.5338908608173062\n",
      "\n",
      "Accuracy = 0.972257\n",
      "Test Error = 0.0277428\n",
      "Currently modelling \"justabs\" which contains the following variables:\n",
      "['abs_score']\n",
      "\n",
      "The AUC for model \"justabs\" is: \n",
      "0.5656730737027061\n",
      "\n",
      "Accuracy = 0.972256\n",
      "Test Error = 0.0277438\n",
      "Currently modelling \"just_logged_score\" which contains the following variables:\n",
      "['logged_score']\n",
      "\n",
      "The AUC for model \"just_logged_score\" is: \n",
      "0.5692893268573566\n",
      "\n",
      "Accuracy = 0.972263\n",
      "Test Error = 0.0277373\n",
      "Currently modelling \"justcontrols\" which contains the following variables:\n",
      "['can_gild', 'collapsed', 'controversiality', 'gilded', 'is_submitter', 'no_follow', 'send_replies', 'stickied', 'subreddit_type_O']\n",
      "\n",
      "The AUC for model \"justcontrols\" is: \n",
      "0.6130412519460133\n",
      "\n",
      "Accuracy = 0.97226\n",
      "Test Error = 0.0277399\n"
     ]
    }
   ],
   "source": [
    "## Convert string columns to numbered categories for the logit\n",
    "stringIndexer_sub = StringIndexer(inputCol=\"subreddit_type\", outputCol=\"subreddit_typeI\").setHandleInvalid(\"skip\")\n",
    "\n",
    "## Convert index categories to dummies with \n",
    "encoder = OneHotEncoderEstimator(inputCols=[\"subreddit_typeI\"],\n",
    "                                 outputCols=[\"subreddit_type_O\"])\n",
    "models = []\n",
    "\n",
    "## Put together our features \n",
    "for features,featname in zip(featurelist,featurelistname):\n",
    "    \n",
    "    print(f'Currently modelling \"{featname}\" which contains the following variables:\\n{sorted(features)}')\n",
    "          \n",
    "    vectorAssembler_features = VectorAssembler( \n",
    "        inputCols= features,\n",
    "        outputCol=\"features\")\n",
    "\n",
    "    ## Create the Logit object\n",
    "    lg = LogisticRegression(labelCol=target, featuresCol=\"features\")\n",
    "\n",
    "    ## Create Pipeline\n",
    "    pipeline_lr = Pipeline(stages = [stringIndexer_sub, encoder,\n",
    "                           vectorAssembler_features, lg])\n",
    "    ## Run the pipeline\n",
    "    model_lr = pipeline_lr.fit(train_data)\n",
    "    \n",
    "    ## Create predictions on the test data, evaluate them using the evaluator. \n",
    "    predictions = model_lr.transform(test_data)\n",
    "    evaluator = BinaryClassificationEvaluator(labelCol=target, rawPredictionCol=\"rawPrediction\")\n",
    "    evaluatorACC = MulticlassClassificationEvaluator(labelCol=target, predictionCol=\"prediction\", metricName=\"accuracy\")\n",
    "    \n",
    "    AUC = evaluator.evaluate(predictions)\n",
    "    accuracy = evaluatorACC.evaluate(predictions)\n",
    "    \n",
    "    ## Save model information to list\n",
    "    model = (featname,features,AUC,accuracy)\n",
    "    models.append(model)\n",
    "    \n",
    "    print(f'\\nThe AUC for model \"{featname}\" is: \\n{AUC}\\n')\n",
    "    print(\"Accuracy = %g\" % accuracy)\n",
    "    print(\"Test Error = %g\" % (1.0 - accuracy))\n",
    "    print(\"\\n\")\n",
    "    \n",
    "    #Save model itself\n",
    "    model_lr.save(\"s3://dhp-massive-data/Project/Final_models/\"+featname)"
   ]
  },
  {
   "cell_type": "code",
   "execution_count": 29,
   "metadata": {},
   "outputs": [
    {
     "data": {
      "text/html": [
       "<div>\n",
       "<style scoped>\n",
       "    .dataframe tbody tr th:only-of-type {\n",
       "        vertical-align: middle;\n",
       "    }\n",
       "\n",
       "    .dataframe tbody tr th {\n",
       "        vertical-align: top;\n",
       "    }\n",
       "\n",
       "    .dataframe thead th {\n",
       "        text-align: right;\n",
       "    }\n",
       "</style>\n",
       "<table border=\"1\" class=\"dataframe\">\n",
       "  <thead>\n",
       "    <tr style=\"text-align: right;\">\n",
       "      <th></th>\n",
       "      <th>model_name</th>\n",
       "      <th>variables</th>\n",
       "      <th>AUC</th>\n",
       "      <th>Accuracy</th>\n",
       "    </tr>\n",
       "  </thead>\n",
       "  <tbody>\n",
       "    <tr>\n",
       "      <th>0</th>\n",
       "      <td>features_score</td>\n",
       "      <td>[can_gild, collapsed, is_submitter, send_repli...</td>\n",
       "      <td>0.619535</td>\n",
       "      <td>0.972258</td>\n",
       "    </tr>\n",
       "    <tr>\n",
       "      <th>1</th>\n",
       "      <td>features_abs_score</td>\n",
       "      <td>[can_gild, collapsed, is_submitter, send_repli...</td>\n",
       "      <td>0.622532</td>\n",
       "      <td>0.972258</td>\n",
       "    </tr>\n",
       "    <tr>\n",
       "      <th>2</th>\n",
       "      <td>features_logged_score</td>\n",
       "      <td>[can_gild, collapsed, is_submitter, send_repli...</td>\n",
       "      <td>0.626509</td>\n",
       "      <td>0.972261</td>\n",
       "    </tr>\n",
       "    <tr>\n",
       "      <th>3</th>\n",
       "      <td>justscore</td>\n",
       "      <td>[score]</td>\n",
       "      <td>0.533891</td>\n",
       "      <td>0.972257</td>\n",
       "    </tr>\n",
       "    <tr>\n",
       "      <th>4</th>\n",
       "      <td>justabs</td>\n",
       "      <td>[abs_score]</td>\n",
       "      <td>0.565673</td>\n",
       "      <td>0.972256</td>\n",
       "    </tr>\n",
       "    <tr>\n",
       "      <th>5</th>\n",
       "      <td>just_logged_score</td>\n",
       "      <td>[logged_score]</td>\n",
       "      <td>0.569289</td>\n",
       "      <td>0.972263</td>\n",
       "    </tr>\n",
       "    <tr>\n",
       "      <th>6</th>\n",
       "      <td>justcontrols</td>\n",
       "      <td>[can_gild, collapsed, is_submitter, send_repli...</td>\n",
       "      <td>0.613041</td>\n",
       "      <td>0.972260</td>\n",
       "    </tr>\n",
       "  </tbody>\n",
       "</table>\n",
       "</div>"
      ],
      "text/plain": [
       "              model_name                                          variables  \\\n",
       "0         features_score  [can_gild, collapsed, is_submitter, send_repli...   \n",
       "1     features_abs_score  [can_gild, collapsed, is_submitter, send_repli...   \n",
       "2  features_logged_score  [can_gild, collapsed, is_submitter, send_repli...   \n",
       "3              justscore                                            [score]   \n",
       "4                justabs                                        [abs_score]   \n",
       "5      just_logged_score                                     [logged_score]   \n",
       "6           justcontrols  [can_gild, collapsed, is_submitter, send_repli...   \n",
       "\n",
       "        AUC  Accuracy  \n",
       "0  0.619535  0.972258  \n",
       "1  0.622532  0.972258  \n",
       "2  0.626509  0.972261  \n",
       "3  0.533891  0.972257  \n",
       "4  0.565673  0.972256  \n",
       "5  0.569289  0.972263  \n",
       "6  0.613041  0.972260  "
      ]
     },
     "execution_count": 29,
     "metadata": {},
     "output_type": "execute_result"
    }
   ],
   "source": [
    "pd.DataFrame(models,columns=[\"model_name\",\"variables\",\"AUC\",\"Accuracy\"])"
   ]
  },
  {
   "cell_type": "code",
   "execution_count": 30,
   "metadata": {},
   "outputs": [],
   "source": [
    "pd.DataFrame(models,columns=[\"model_name\",\"variables\",\"AUC\",\"Accuracy\"]).to_csv(\"AUC_and_Accuracy.csv\",index=False)"
   ]
  },
  {
   "cell_type": "code",
   "execution_count": 31,
   "metadata": {},
   "outputs": [],
   "source": [
    "spark.stop()"
   ]
  }
 ],
 "metadata": {
  "kernelspec": {
   "display_name": "Python 3",
   "language": "python",
   "name": "python3"
  },
  "language_info": {
   "codemirror_mode": {
    "name": "ipython",
    "version": 3
   },
   "file_extension": ".py",
   "mimetype": "text/x-python",
   "name": "python",
   "nbconvert_exporter": "python",
   "pygments_lexer": "ipython3",
   "version": "3.7.3"
  }
 },
 "nbformat": 4,
 "nbformat_minor": 4
}
